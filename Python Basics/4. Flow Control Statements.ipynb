{
 "cells": [
  {
   "cell_type": "code",
   "execution_count": 2,
   "metadata": {},
   "outputs": [
    {
     "name": "stdout",
     "output_type": "stream",
     "text": [
      "1\n",
      "4\n",
      "9\n",
      "16\n",
      "25\n",
      "36\n",
      "49\n",
      "64\n",
      "81\n",
      "100\n"
     ]
    }
   ],
   "source": [
    "# print sq till 1 to 10\n",
    "\n",
    "a=1\n",
    "\n",
    "while(a<=10):\n",
    "    print(a*a)\n",
    "    a=a+1"
   ]
  },
  {
   "cell_type": "code",
   "execution_count": 7,
   "metadata": {},
   "outputs": [
    {
     "name": "stdout",
     "output_type": "stream",
     "text": [
      "7 * 1 = 7\n",
      "7 * 2 = 14\n",
      "7 * 3 = 21\n",
      "7 * 4 = 28\n",
      "7 * 5 = 35\n",
      "7 * 6 = 42\n",
      "7 * 7 = 49\n",
      "7 * 8 = 56\n",
      "7 * 9 = 63\n",
      "7 * 10 = 70\n"
     ]
    }
   ],
   "source": [
    "a=7\n",
    "i=1\n",
    "while(i<=10):\n",
    "    print(a, \"*\",i,\"=\",a*i )\n",
    "    i=i+1"
   ]
  },
  {
   "cell_type": "code",
   "execution_count": 19,
   "metadata": {},
   "outputs": [
    {
     "name": "stdout",
     "output_type": "stream",
     "text": [
      "A\n",
      "n\n",
      "s\n",
      "h\n",
      "u\n",
      "l\n"
     ]
    }
   ],
   "source": [
    "a='Anshul'\n",
    "i=0\n",
    "while(i<len(a)):\n",
    "    print(a[i])\n",
    "    i=i+1"
   ]
  },
  {
   "cell_type": "code",
   "execution_count": 21,
   "metadata": {},
   "outputs": [
    {
     "name": "stdout",
     "output_type": "stream",
     "text": [
      "A\n",
      "n\n",
      "s\n",
      "h\n",
      "u\n",
      "l\n"
     ]
    }
   ],
   "source": [
    "a='Anshul'\n",
    "for i in a:\n",
    "    print(i)"
   ]
  },
  {
   "cell_type": "markdown",
   "metadata": {},
   "source": [
    "sample_list=[10,20,30,40,50]\n"
   ]
  },
  {
   "cell_type": "markdown",
   "metadata": {},
   "source": []
  },
  {
   "cell_type": "code",
   "execution_count": 28,
   "metadata": {},
   "outputs": [
    {
     "name": "stdout",
     "output_type": "stream",
     "text": [
      "50\n",
      "60\n",
      "70\n",
      "80\n",
      "90\n"
     ]
    }
   ],
   "source": [
    "sample_list=[10,20,30,40,50,60,70,80,90]\n",
    "for i in sample_list[-5:]:\n",
    "    print(i)"
   ]
  },
  {
   "cell_type": "code",
   "execution_count": 32,
   "metadata": {},
   "outputs": [
    {
     "name": "stdout",
     "output_type": "stream",
     "text": [
      "70\n",
      "40\n",
      "50\n",
      "35\n",
      "90\n"
     ]
    }
   ],
   "source": [
    "sample_list=[10,70,30,40,50,25,35,90]\n",
    "for i in sample_list:\n",
    "    if i>30:\n",
    "        print(i)"
   ]
  },
  {
   "cell_type": "code",
   "execution_count": 61,
   "metadata": {},
   "outputs": [
    {
     "name": "stdout",
     "output_type": "stream",
     "text": [
      "[10, 200, 30, 40, 50, ' ', 60, 70]\n",
      "[10, 200, 30, 40, 50, 'ABC', 60, 70]\n"
     ]
    }
   ],
   "source": [
    "sample=[10,20,30,40,50,\" \",60,70]\n",
    "index=0\n",
    "for i in sample:\n",
    "    if i==20: \n",
    "        sample[index]=200\n",
    "        print(sample)\n",
    "    \n",
    "    elif i==\" \":\n",
    "        sample[index]=\"ABC\"\n",
    "        print(sample)\n",
    "    index=index+1    \n"
   ]
  },
  {
   "cell_type": "code",
   "execution_count": 64,
   "metadata": {},
   "outputs": [
    {
     "data": {
      "text/plain": [
       "0.75"
      ]
     },
     "execution_count": 64,
     "metadata": {},
     "output_type": "execute_result"
    }
   ],
   "source": [
    "3/4"
   ]
  },
  {
   "cell_type": "code",
   "execution_count": 124,
   "metadata": {},
   "outputs": [
    {
     "name": "stdout",
     "output_type": "stream",
     "text": [
      "1 \n",
      "2 1 \n",
      "3 2 1 \n",
      "4 3 2 1 \n"
     ]
    }
   ],
   "source": [
    "for i in range(1,5):\n",
    "    for j in range(i,0,-1):\n",
    "        print(j, end=\" \")\n",
    "    print()   \n",
    "        "
   ]
  },
  {
   "cell_type": "code",
   "execution_count": 1,
   "metadata": {},
   "outputs": [
    {
     "name": "stdout",
     "output_type": "stream",
     "text": [
      "1 \n",
      "1 2 \n",
      "1 2 3 \n",
      "1 2 3 4 \n"
     ]
    }
   ],
   "source": [
    "for i in range(1,5):\n",
    "    for j in range(1,i+1):\n",
    "        print(j, end=\" \")\n",
    "    print()   \n",
    "        "
   ]
  },
  {
   "cell_type": "code",
   "execution_count": 18,
   "metadata": {},
   "outputs": [
    {
     "name": "stdout",
     "output_type": "stream",
     "text": [
      "40\n"
     ]
    }
   ],
   "source": [
    "list_1=[10,20,30,40,20,50,60]\n",
    "for i in list_1:\n",
    "    if (i>30):\n",
    "        print(i)\n",
    "        break\n",
    "        "
   ]
  },
  {
   "cell_type": "code",
   "execution_count": 63,
   "metadata": {},
   "outputs": [
    {
     "name": "stdout",
     "output_type": "stream",
     "text": [
      "Value : 20\n",
      "index keyword : 1\n",
      "Value : 40\n",
      "index keyword : 3\n"
     ]
    }
   ],
   "source": [
    "lis=[10,20,35,40,55,87,80,89,120,80,50,40,70]\n",
    "ind=0\n",
    "\n",
    "for i in lis:\n",
    "    if i %20==0:\n",
    "        ind=ind+1   \n",
    "        if ind<=2:\n",
    "            print(\"Value :\", i)\n",
    "            print(\"index keyword :\", lis.index(i))\n",
    "    \n",
    "        \n",
    "        "
   ]
  },
  {
   "cell_type": "code",
   "execution_count": 73,
   "metadata": {},
   "outputs": [
    {
     "name": "stdout",
     "output_type": "stream",
     "text": [
      "1\n",
      "2\n",
      "3\n",
      "5\n",
      "6\n",
      "7\n",
      "9\n",
      "10\n"
     ]
    }
   ],
   "source": [
    "#lis=[10,20,35,40,55,87,80,89,120,80,50,40,70]\n",
    "ind=0\n",
    "for i in range(0,11):\n",
    "    if i %4==0:        \n",
    "        continue\n",
    "    else:\n",
    "        print(i)"
   ]
  },
  {
   "cell_type": "code",
   "execution_count": 86,
   "metadata": {},
   "outputs": [
    {
     "name": "stdout",
     "output_type": "stream",
     "text": [
      "n\n",
      "s\n",
      "h\n"
     ]
    }
   ],
   "source": [
    "name='anshul'\n",
    "for index  in name:\n",
    "    if index=='a' or index=='o':\n",
    "        continue\n",
    "    elif index=='e' or index=='i' or index=='u':\n",
    "        break\n",
    "    \n",
    "    else:\n",
    "        print(index)\n",
    "        "
   ]
  },
  {
   "cell_type": "code",
   "execution_count": 92,
   "metadata": {},
   "outputs": [
    {
     "name": "stdout",
     "output_type": "stream",
     "text": [
      "anshul\n"
     ]
    }
   ],
   "source": [
    "name='anshul'\n",
    "for i  in name:\n",
    "    pass\n",
    "print(name)"
   ]
  },
  {
   "cell_type": "code",
   "execution_count": 18,
   "metadata": {},
   "outputs": [
    {
     "name": "stdout",
     "output_type": "stream",
     "text": [
      "75\n"
     ]
    }
   ],
   "source": [
    "num=75\n",
    "i=0\n",
    "while True:\n",
    "    i=i+1\n",
    "    if i % num==0:\n",
    "        print(i)\n",
    "        break\n",
    "        \n",
    "          \n",
    "    \n",
    "    \n",
    "    \n",
    "    "
   ]
  }
 ],
 "metadata": {
  "kernelspec": {
   "display_name": "Python 3",
   "language": "python",
   "name": "python3"
  }
 },
 "nbformat": 4,
 "nbformat_minor": 2
}
